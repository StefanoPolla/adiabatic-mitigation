{
 "cells": [
  {
   "cell_type": "code",
   "execution_count": 7,
   "metadata": {},
   "outputs": [],
   "source": [
    "from adiab_mitig import XZchain, pauli_field\n",
    "import openfermion as of\n",
    "import numpy as np\n",
    "from tqdm.notebook import tqdm\n",
    "import matplotlib.pyplot as plt\n",
    "import os\n",
    "\n",
    "sys = XZchain(5, hx=0/5, hz=1/5, hzz=-5/5) \n",
    "dt = 0.07 # Trotter step size\n",
    "\n",
    "magnetization_qop = pauli_field(sys.nspins, 'Z')\n",
    "magnetization = of.get_sparse_operator(magnetization_qop)"
   ]
  },
  {
   "cell_type": "markdown",
   "metadata": {},
   "source": [
    "# Simulation\n",
    "generate data for Fig.3. \n",
    "Takes a few minutes."
   ]
  },
  {
   "cell_type": "code",
   "execution_count": null,
   "metadata": {},
   "outputs": [],
   "source": [
    "if os.path.exists('data/magnetization/T_list.npy'):\n",
    "    print('Data already exists, it will be loaded from files.'\n",
    "          'If you want to re-generate it, delete the data/magnetization folder or disable this check.')\n",
    "    \n",
    "    T_list = np.load('data/magnetization/T_list.npy')\n",
    "    aa_expvals = np.load('data/magnetization/refl_expvals.npy')\n",
    "    aev_t0_expvals = np.load('data/magnetization/aev_t0_expvals.npy')\n",
    "    aev_t10_expvals = np.load('data/magnetization/aev_t10_expvals.npy')\n",
    "    aev_tinf_expvals = np.load('data/magnetization/aev_tinf_expvals.npy')\n",
    "else:\n",
    "    os.makedirs('data/magnetization', exist_ok=True)\n",
    "\n",
    "    dt = 0.07\n",
    "    T_list = np.logspace(1, np.log10(2000), 40)\n",
    "\n",
    "    aa_expvals = np.zeros_like(T_list, dtype=complex)\n",
    "    aev_t0_expvals = np.zeros_like(T_list, dtype=complex)\n",
    "    aev_t10_expvals = np.zeros_like(T_list, dtype=complex)\n",
    "    aev_tinf_expvals = np.zeros_like(T_list, dtype=complex)\n",
    "\n",
    "\n",
    "    for i, T in enumerate(tqdm(T_list)):\n",
    "        nsteps = int(T / dt)\n",
    "        \n",
    "        magnetization = \n",
    "\n",
    "        refl_expval = sys.adiabatic_expval(T, nsteps, magnetization)\n",
    "        aev_t0_expval = sys.aev_expval(T/2, nsteps, 0, magnetization)\n",
    "        aev_t10_expval = sys.aev_expval(T/2, nsteps, 10, magnetization)\n",
    "        aev_tinf_expval = sys.aev_expval(T/2, nsteps, None, magnetization)\n",
    "        \n",
    "        aa_expvals[i] = refl_expval \n",
    "        aev_t0_expvals[i] = aev_t0_expval\n",
    "        aev_t10_expvals[i] = aev_t10_expval\n",
    "        aev_tinf_expvals[i] = aev_tinf_expval\n",
    "\n",
    "    np.save('data/magnetization/T_list.npy', T_list)\n",
    "    np.save('data/magnetization/refl_expvals.npy', aa_expvals)\n",
    "    np.save('data/magnetization/aev_t0_expvals.npy', aev_t0_expvals)\n",
    "    np.save('data/magnetization/aev_t10_expvals.npy', aev_t10_expvals)\n",
    "    np.save('data/magnetization/aev_tinf_expvals.npy', aev_tinf_expvals)"
   ]
  },
  {
   "cell_type": "markdown",
   "metadata": {},
   "source": [
    "# Plotting"
   ]
  },
  {
   "cell_type": "code",
   "execution_count": null,
   "metadata": {},
   "outputs": [],
   "source": [
    "# Plot settings\n",
    "plt.rcParams['text.usetex'] = True\n",
    "plt.rcParams['font.family'] = 'serif'\n",
    "plt.rcParams['xtick.direction'] = 'in'\n",
    "plt.rcParams['ytick.direction'] = 'in'\n",
    "plt.rcParams['lines.markersize'] = 4\n",
    "plt.rcParams['lines.linewidth'] = 1\n",
    "plt.rcParams['font.size'] = 10\n",
    "\n",
    "mcolors = [\"#00455E\", \"navy\", \"chocolate\", \"seagreen\"]\n",
    "fcolors = [\"#CCDADF\", \"#CCCCE6\", \"#F6E1D2\", \"#D5E8DD\"]"
   ]
  },
  {
   "cell_type": "code",
   "execution_count": null,
   "metadata": {},
   "outputs": [],
   "source": [
    "plt.figure(figsize=(3.54, 2.36))\n",
    "\n",
    "plt.plot(T_list, aa_expvals + 1, color=mcolors[1], label = 'QAA')\n",
    "plt.plot(T_list, np.abs(aev_t0_expvals + 1), '1', color=mcolors[0], label='$T_d=0$')\n",
    "plt.plot(T_list, np.abs(aev_t10_expvals + 1), '+',  color=mcolors[2], label=f'$T_d=10$')\n",
    "plt.plot(T_list, np.abs(aev_tinf_expvals + 1), '.',  color=mcolors[3], label=r'$T_d \\to \\infty$')\n",
    "\n",
    "lend = 23 # point where the exp line ends\n",
    "plt.text(T_list[lend], np.exp(-T_list[lend]/7), r'$e^{-\\beta T}$', va='bottom', ha='center')\n",
    "plt.plot(T_list[:lend], np.exp(-T_list[:lend]/7), ':k')\n",
    "\n",
    "lstr = 7 # point where the power law lines start\n",
    "plt.text(T_list[lstr-1], 0.2*T_list[lstr-1]**(-2), r'$\\propto T^{-2}$', va='center', ha='right')\n",
    "plt.plot(T_list[lstr:], 0.2*T_list[lstr:]**(-2), ':k')\n",
    "\n",
    "plt.text(T_list[lstr-1], 0.05*T_list[lstr-1]**(-4), r'$\\propto T^{-4}$', va='center', ha='right')\n",
    "plt.plot(T_list[lstr:], 0.05*T_list[lstr:]**(-4), ':k')\n",
    "\n",
    "plt.yscale('log')\n",
    "plt.xscale('log')\n",
    "plt.xlabel('Total sweep time $T$')\n",
    "plt.ylabel('Reflection estimator error')\n",
    "plt.legend() # loc = 'center left', bbox_to_anchor = (1,0.5))\n",
    "plt.plot()"
   ]
  }
 ],
 "metadata": {
  "kernelspec": {
   "display_name": "no mkl",
   "language": "python",
   "name": "nomkl"
  },
  "language_info": {
   "codemirror_mode": {
    "name": "ipython",
    "version": 3
   },
   "file_extension": ".py",
   "mimetype": "text/x-python",
   "name": "python",
   "nbconvert_exporter": "python",
   "pygments_lexer": "ipython3",
   "version": "3.10.9"
  }
 },
 "nbformat": 4,
 "nbformat_minor": 2
}
